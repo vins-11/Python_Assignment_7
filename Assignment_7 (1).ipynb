{
 "cells": [
  {
   "cell_type": "markdown",
   "metadata": {
    "id": "eh5ikkUkgk8j"
   },
   "source": [
    "#### Ques 1. Write a Pandas program to convert a Panda module Series to Python list and it’s type."
   ]
  },
  {
   "cell_type": "code",
   "execution_count": 5,
   "metadata": {},
   "outputs": [
    {
     "name": "stdout",
     "output_type": "stream",
     "text": [
      "0     3\n",
      "1     6\n",
      "2     9\n",
      "3    12\n",
      "4    15\n",
      "dtype: int64\n",
      "<class 'pandas.core.series.Series'>\n",
      "[3, 6, 9, 12, 15]\n",
      "<class 'list'>\n"
     ]
    }
   ],
   "source": [
    "import pandas as pd\n",
    "ds = pd.Series([3, 6, 9, 12, 15])\n",
    "print(ds)\n",
    "print(type(ds))\n",
    "#Convert Pandas Series to Python list\n",
    "print(ds.tolist())\n",
    "print(type(ds.tolist()))\n"
   ]
  },
  {
   "cell_type": "markdown",
   "metadata": {
    "id": "RnWLYxBfgrjI"
   },
   "source": [
    "#### Ques 2.Write a Pandas program to convert a NumPy array to a Pandas series.\n",
    "#### Sample NumPy array: d1 = [10, 20, 30, 40, 50]"
   ]
  },
  {
   "cell_type": "code",
   "execution_count": 9,
   "metadata": {},
   "outputs": [
    {
     "name": "stdout",
     "output_type": "stream",
     "text": [
      "NumPy array: [10 20 30 40 50]\n",
      "Converted Pandas series:\n",
      "0    10\n",
      "1    20\n",
      "2    30\n",
      "3    40\n",
      "4    50\n",
      "dtype: int32\n"
     ]
    }
   ],
   "source": [
    "import numpy as np\n",
    "import pandas as pd\n",
    "np_array = np.array([10, 20, 30, 40, 50])\n",
    "print(\"NumPy array:\", np_array)\n",
    "new_series = pd.Series(np_array)\n",
    "print(\"Converted Pandas series:\")\n",
    "print(new_series)\n"
   ]
  },
  {
   "cell_type": "markdown",
   "metadata": {
    "id": "yECwQ5zYgs6e"
   },
   "source": [
    "#### Ques 3.Write a Pandas program to count the NaN values in one or more columns in DataFrame.\n",
    "\n",
    "#### Sample data:\n",
    "#### Original DataFrame\n",
    "#### attempts name qualify score\n",
    "#### 0 1 Anastasia yes 12.5\n",
    "#### 1 3 Dima no 9.0\n",
    "#### 2 2 Katherine yes 16.5\n",
    "#### 3 3 James no NaN\n",
    "#### 4 2 Emily no 9.0\n",
    "#### 5 3 Michael yes 20.0\n",
    "#### 6 1 Matthew yes 14.5\n",
    "#### 7 1 Laura no NaN\n",
    "#### 8 2 Kevin no 8.0\n",
    "#### 9 1 Jonas yes 19.0\n",
    "#### Number of NaN values in one or more columns:\n",
    "#### 2"
   ]
  },
  {
   "cell_type": "code",
   "execution_count": 14,
   "metadata": {},
   "outputs": [
    {
     "name": "stdout",
     "output_type": "stream",
     "text": [
      "        name  score  attempts qualify\n",
      "0  Anastasia   12.5         1     yes\n",
      "1       Dima    9.0         3      no\n",
      "2  Katherine   16.5         2     yes\n",
      "3      James    NaN         3      no\n",
      "4      Emily    9.0         2      no\n",
      "5    Michael   20.0         3     yes\n",
      "6    Matthew   14.5         1     yes\n",
      "7      Laura    NaN         1      no\n",
      "8      Kevin    8.0         2      no\n",
      "9      Jonas   19.0         1     yes\n",
      "\n",
      "Number of NaN values in one or more columns:\n",
      "2\n"
     ]
    }
   ],
   "source": [
    "import pandas as pd\n",
    "import numpy as np\n",
    "smp_data = {'name': ['Anastasia', 'Dima', 'Katherine', 'James', 'Emily', 'Michael', 'Matthew', 'Laura', 'Kevin', 'Jonas'],\n",
    "        'score': [12.5, 9, 16.5, np.nan, 9, 20, 14.5, np.nan, 8, 19],\n",
    "        'attempts': [1, 3, 2, 3, 2, 3, 1, 1, 2, 1],\n",
    "        'qualify': ['yes', 'no', 'yes', 'no', 'no', 'yes', 'yes', 'no', 'no', 'yes']}\n",
    "df = pd.DataFrame(smp_data)\n",
    "print(df)\n",
    "print(\"\\nNumber of NaN values in one or more columns:\")\n",
    "print(df.isnull().values.sum())\n"
   ]
  },
  {
   "cell_type": "markdown",
   "metadata": {
    "id": "Wj7Xf407idqV"
   },
   "source": [
    "#### Ques 4. Write a Pandas program to add, subtract, multiple and divide two Pandas Series.\n",
    "\n",
    "#### Sample Series: [2, 4, 6, 8, 10], [1, 3, 5, 7, 9]"
   ]
  },
  {
   "cell_type": "code",
   "execution_count": 24,
   "metadata": {},
   "outputs": [
    {
     "name": "stdout",
     "output_type": "stream",
     "text": [
      "0     3\n",
      "1     7\n",
      "2    11\n",
      "3    15\n",
      "4    19\n",
      "dtype: int64\n",
      "0    1\n",
      "1    1\n",
      "2    1\n",
      "3    1\n",
      "4    1\n",
      "dtype: int64\n",
      "0     2\n",
      "1    12\n",
      "2    30\n",
      "3    56\n",
      "4    90\n",
      "dtype: int64\n",
      "0    2.000000\n",
      "1    1.333333\n",
      "2    1.200000\n",
      "3    1.142857\n",
      "4    1.111111\n",
      "dtype: float64\n"
     ]
    }
   ],
   "source": [
    "import pandas as pd\n",
    "ps1 = pd.Series([2,4,6,8,10])\n",
    "ps2 = pd.Series([1,3,5,7,9])\n",
    "ps = ps1 + ps2 # Addition\n",
    "print(ps)\n",
    "ps = ps1 - ps2 # Substract\n",
    "print(ps)\n",
    "ps = ps1 * ps2 # Multiply\n",
    "print(ps)\n",
    "ps = ps1 / ps2 # Divide\n",
    "print(ps)"
   ]
  },
  {
   "cell_type": "markdown",
   "metadata": {
    "id": "Lz3BmZK0i0EY"
   },
   "source": [
    "#### Ques 5. Write a Pandas program to create a multi Index frame using two columns and using an Index and a column.\n",
    "\n",
    "#### Test Data:\n",
    "\n",
    "#### 0        s001     V  Alberto Franco     15/05/2002      35  street1   t1\n",
    "#### 1        s002     V    Gino Mcneill     17/05/2002      32  street2   t2\n",
    "#### 2        s003    VI     Ryan Parkes     16/02/1999      33  street3   t3\n",
    "#### 3        s001    VI    Eesha Hinton     25/09/1998      30  street1   t4\n",
    "#### 4        s002     V    Gino Mcneill     11/05/2002      31  street2   t5\n",
    "#### 5        s004    VI    David Parkes     15/09/1997      32  street4   t6"
   ]
  },
  {
   "cell_type": "code",
   "execution_count": 33,
   "metadata": {},
   "outputs": [
    {
     "name": "stdout",
     "output_type": "stream",
     "text": [
      "  Student_id class            name date_Of_Birth  weight  address t_id\n",
      "0       s001     V  Alberto Franco    15/05/2002      35  street1   t1\n",
      "1       s002     V    Gino Mcneill    17/05/2002      32  street2   t2\n",
      "2       s003    VI     Ryan Parkes    16/02/1999      33  street3   t3\n",
      "3       s001    VI    Eesha Hinton    25/09/1998      30  street1   t4\n",
      "4       s002     V    Gino Mcneill    11/05/2002      31  street2   t5\n",
      "5       s004    VI    David Parkes    15/09/1997      32  street4   t6\n",
      "\n",
      "MultiIndex using columns 't_id' and ‘Student_id’:\n",
      "                class            name date_Of_Birth  weight  address\n",
      "t_id Student_id                                                     \n",
      "t1   s001           V  Alberto Franco    15/05/2002      35  street1\n",
      "t2   s002           V    Gino Mcneill    17/05/2002      32  street2\n",
      "t3   s003          VI     Ryan Parkes    16/02/1999      33  street3\n",
      "t4   s001          VI    Eesha Hinton    25/09/1998      30  street1\n",
      "t5   s002           V    Gino Mcneill    11/05/2002      31  street2\n",
      "t6   s004          VI    David Parkes    15/09/1997      32  street4\n",
      "\n",
      "MultiIndex using an Index and a column:\n",
      "       Student_id class            name date_Of_Birth  weight  address\n",
      "  t_id                                                                \n",
      "0 t1         s001     V  Alberto Franco    15/05/2002      35  street1\n",
      "1 t2         s002     V    Gino Mcneill    17/05/2002      32  street2\n",
      "2 t3         s003    VI     Ryan Parkes    16/02/1999      33  street3\n",
      "3 t4         s001    VI    Eesha Hinton    25/09/1998      30  street1\n",
      "4 t5         s002     V    Gino Mcneill    11/05/2002      31  street2\n",
      "5 t6         s004    VI    David Parkes    15/09/1997      32  street4\n"
     ]
    }
   ],
   "source": [
    "import pandas as pd\n",
    "df = pd.DataFrame({\n",
    "    'Student_id': ['s001','s002','s003','s001','s002','s004'],\n",
    "    'class': ['V', 'V', 'VI', 'VI', 'V', 'VI'],\n",
    "    'name': ['Alberto Franco','Gino Mcneill','Ryan Parkes', 'Eesha Hinton', 'Gino Mcneill', 'David Parkes'],\n",
    "    'date_Of_Birth': ['15/05/2002','17/05/2002','16/02/1999','25/09/1998','11/05/2002','15/09/1997'],\n",
    "    'weight': [35, 32, 33, 30, 31, 32],\n",
    "    'address': ['street1', 'street2', 'street3', 'street1', 'street2', 'street4'],\n",
    "    't_id':['t1', 't2', 't3', 't4', 't5', 't6']})\n",
    "print(df)\n",
    "print(\"\\nMultiIndex using columns 't_id' and ‘Student_id’:\")\n",
    "df1 = df.set_index(['t_id', 'Student_id'])\n",
    "print(df1)\n",
    "print(\"\\nMultiIndex using an Index and a column:\")\n",
    "df2 = df.set_index([pd.Index([0, 1, 2, 3, 4, 5]), 't_id'])\n",
    "print(df2)\n"
   ]
  },
  {
   "cell_type": "markdown",
   "metadata": {
    "id": "LRw3VaHlklRZ"
   },
   "source": [
    "#### Ques 6. Write a Pandas program to split the following dataframe into groups based on school code. Also check the type of GroupBy object.\n",
    "\n",
    "#### Test Data:\n",
    "\n",
    "####school class            name date_Of_Birth   age  height  weight  address\n",
    "#### S1   s001     V  Alberto Franco     15/05/2002   12    173      35  street1\n",
    "#### S2   s002     V    Gino Mcneill     17/05/2002   12    192      32  street2\n",
    "#### S3   s003    VI     Ryan Parkes     16/02/1999   13    186      33  street3\n",
    "#### S4   s001    VI    Eesha Hinton     25/09/1998   13    167      30  street1\n",
    "#### S5   s002     V    Gino Mcneill     11/05/2002   14    151      31  street2\n",
    "#### S6   s004    VI    David Parkes     15/09/1997   12    159      32  street4"
   ]
  },
  {
   "cell_type": "code",
   "execution_count": 30,
   "metadata": {},
   "outputs": [
    {
     "name": "stdout",
     "output_type": "stream",
     "text": [
      "   student_id class            name date_Of_Birth   age  height  weight  \\\n",
      "S1       s001     V  Alberto Franco     15/05/2002   12     173      35   \n",
      "S2       s002     V    Gino Mcneill     17/05/2002   12     192      32   \n",
      "S3       s003    VI     Ryan Parkes     16/02/1999   13     186      33   \n",
      "S4       s001    VI    Eesha Hinton     25/09/1998   13     167      30   \n",
      "S5       s002     V    Gino Mcneill     11/05/2002   14     151      31   \n",
      "S6       s004    VI    David Parkes     15/09/1997   12     159      32   \n",
      "\n",
      "    address  \n",
      "S1  street1  \n",
      "S2  street2  \n",
      "S3  street3  \n",
      "S4  street1  \n",
      "S5  street2  \n",
      "S6  street4  \n",
      "\n",
      "Split the said data on student_id wise:\n",
      "\n",
      "Group:\n",
      "s001\n",
      "   student_id class            name date_Of_Birth   age  height  weight  \\\n",
      "S1       s001     V  Alberto Franco     15/05/2002   12     173      35   \n",
      "S4       s001    VI    Eesha Hinton     25/09/1998   13     167      30   \n",
      "\n",
      "    address  \n",
      "S1  street1  \n",
      "S4  street1  \n",
      "\n",
      "Group:\n",
      "s002\n",
      "   student_id class          name date_Of_Birth   age  height  weight  address\n",
      "S2       s002     V  Gino Mcneill     17/05/2002   12     192      32  street2\n",
      "S5       s002     V  Gino Mcneill     11/05/2002   14     151      31  street2\n",
      "\n",
      "Group:\n",
      "s003\n",
      "   student_id class         name date_Of_Birth   age  height  weight  address\n",
      "S3       s003    VI  Ryan Parkes     16/02/1999   13     186      33  street3\n",
      "\n",
      "Group:\n",
      "s004\n",
      "   student_id class          name date_Of_Birth   age  height  weight  address\n",
      "S6       s004    VI  David Parkes     15/09/1997   12     159      32  street4\n",
      "\n",
      "Type of the object:\n",
      "<class 'pandas.core.groupby.generic.DataFrameGroupBy'>\n"
     ]
    }
   ],
   "source": [
    "import pandas as pd\n",
    "pd.set_option('display.max_rows', None)\n",
    "#pd.set_option('display.max_columns', None)\n",
    "student_data = pd.DataFrame({\n",
    "    'student_id': ['s001','s002','s003','s001','s002','s004'],\n",
    "    'class': ['V', 'V', 'VI', 'VI', 'V', 'VI'],\n",
    "    'name': ['Alberto Franco','Gino Mcneill','Ryan Parkes', 'Eesha Hinton', 'Gino Mcneill', 'David Parkes'],\n",
    "    'date_Of_Birth ': ['15/05/2002','17/05/2002','16/02/1999','25/09/1998','11/05/2002','15/09/1997'],\n",
    "    'age': [12, 12, 13, 13, 14, 12],\n",
    "    'height': [173, 192, 186, 167, 151, 159],\n",
    "    'weight': [35, 32, 33, 30, 31, 32],\n",
    "    'address': ['street1', 'street2', 'street3', 'street1', 'street2', 'street4']},\n",
    "    index=['S1', 'S2', 'S3', 'S4', 'S5', 'S6'])\n",
    "\n",
    "print(student_data)\n",
    "print('\\nSplit the said data on student_id wise:')\n",
    "result = student_data.groupby(['student_id'])\n",
    "for name,group in result:\n",
    "    print(\"\\nGroup:\")\n",
    "    print(name)\n",
    "    print(group)\n",
    "print(\"\\nType of the object:\")\n",
    "print(type(result))\n"
   ]
  }
 ],
 "metadata": {
  "colab": {
   "name": "Assignment_7.ipynb",
   "provenance": []
  },
  "kernelspec": {
   "display_name": "Python 3",
   "language": "python",
   "name": "python3"
  },
  "language_info": {
   "codemirror_mode": {
    "name": "ipython",
    "version": 3
   },
   "file_extension": ".py",
   "mimetype": "text/x-python",
   "name": "python",
   "nbconvert_exporter": "python",
   "pygments_lexer": "ipython3",
   "version": "3.8.8"
  }
 },
 "nbformat": 4,
 "nbformat_minor": 1
}
